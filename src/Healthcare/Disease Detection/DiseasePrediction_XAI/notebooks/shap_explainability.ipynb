{
 "cells": [
  {
   "cell_type": "code",
   "execution_count": 4,
   "id": "9510fcdc-b86a-44ca-b0e2-c7110415540a",
   "metadata": {},
   "outputs": [
    {
     "name": "stdout",
     "output_type": "stream",
     "text": [
      "Requirement already satisfied: shap in c:\\users\\kavya\\appdata\\local\\programs\\python\\python313\\lib\\site-packages (0.48.0)\n",
      "Requirement already satisfied: numpy in c:\\users\\kavya\\appdata\\local\\programs\\python\\python313\\lib\\site-packages (from shap) (2.2.3)\n",
      "Requirement already satisfied: scipy in c:\\users\\kavya\\appdata\\local\\programs\\python\\python313\\lib\\site-packages (from shap) (1.15.2)\n",
      "Requirement already satisfied: scikit-learn in c:\\users\\kavya\\appdata\\local\\programs\\python\\python313\\lib\\site-packages (from shap) (1.6.1)\n",
      "Requirement already satisfied: pandas in c:\\users\\kavya\\appdata\\local\\programs\\python\\python313\\lib\\site-packages (from shap) (2.2.3)\n",
      "Requirement already satisfied: tqdm>=4.27.0 in c:\\users\\kavya\\appdata\\local\\programs\\python\\python313\\lib\\site-packages (from shap) (4.67.1)\n",
      "Requirement already satisfied: packaging>20.9 in c:\\users\\kavya\\appdata\\local\\programs\\python\\python313\\lib\\site-packages (from shap) (25.0)\n",
      "Requirement already satisfied: slicer==0.0.8 in c:\\users\\kavya\\appdata\\local\\programs\\python\\python313\\lib\\site-packages (from shap) (0.0.8)\n",
      "Requirement already satisfied: numba>=0.54 in c:\\users\\kavya\\appdata\\local\\programs\\python\\python313\\lib\\site-packages (from shap) (0.61.2)\n",
      "Requirement already satisfied: cloudpickle in c:\\users\\kavya\\appdata\\local\\programs\\python\\python313\\lib\\site-packages (from shap) (3.1.1)\n",
      "Requirement already satisfied: typing-extensions in c:\\users\\kavya\\appdata\\local\\programs\\python\\python313\\lib\\site-packages (from shap) (4.14.0)\n",
      "Requirement already satisfied: llvmlite<0.45,>=0.44.0dev0 in c:\\users\\kavya\\appdata\\local\\programs\\python\\python313\\lib\\site-packages (from numba>=0.54->shap) (0.44.0)\n",
      "Requirement already satisfied: colorama in c:\\users\\kavya\\appdata\\local\\programs\\python\\python313\\lib\\site-packages (from tqdm>=4.27.0->shap) (0.4.6)\n",
      "Requirement already satisfied: python-dateutil>=2.8.2 in c:\\users\\kavya\\appdata\\local\\programs\\python\\python313\\lib\\site-packages (from pandas->shap) (2.9.0.post0)\n",
      "Requirement already satisfied: pytz>=2020.1 in c:\\users\\kavya\\appdata\\local\\programs\\python\\python313\\lib\\site-packages (from pandas->shap) (2025.1)\n",
      "Requirement already satisfied: tzdata>=2022.7 in c:\\users\\kavya\\appdata\\local\\programs\\python\\python313\\lib\\site-packages (from pandas->shap) (2025.1)\n",
      "Requirement already satisfied: joblib>=1.2.0 in c:\\users\\kavya\\appdata\\local\\programs\\python\\python313\\lib\\site-packages (from scikit-learn->shap) (1.4.2)\n",
      "Requirement already satisfied: threadpoolctl>=3.1.0 in c:\\users\\kavya\\appdata\\local\\programs\\python\\python313\\lib\\site-packages (from scikit-learn->shap) (3.6.0)\n",
      "Requirement already satisfied: six>=1.5 in c:\\users\\kavya\\appdata\\local\\programs\\python\\python313\\lib\\site-packages (from python-dateutil>=2.8.2->pandas->shap) (1.17.0)\n"
     ]
    },
    {
     "name": "stderr",
     "output_type": "stream",
     "text": [
      "\n",
      "[notice] A new release of pip is available: 24.3.1 -> 25.1.1\n",
      "[notice] To update, run: python.exe -m pip install --upgrade pip\n"
     ]
    }
   ],
   "source": [
    "!pip install shap"
   ]
  },
  {
   "cell_type": "code",
   "execution_count": 5,
   "id": "b10b1077-dc4e-48ee-8726-10793cbc9dbd",
   "metadata": {},
   "outputs": [
    {
     "ename": "NameError",
     "evalue": "name 'model' is not defined",
     "output_type": "error",
     "traceback": [
      "\u001b[31m---------------------------------------------------------------------------\u001b[39m",
      "\u001b[31mNameError\u001b[39m                                 Traceback (most recent call last)",
      "\u001b[36mCell\u001b[39m\u001b[36m \u001b[39m\u001b[32mIn[5]\u001b[39m\u001b[32m, line 4\u001b[39m\n\u001b[32m      1\u001b[39m \u001b[38;5;28;01mimport\u001b[39;00m\u001b[38;5;250m \u001b[39m\u001b[34;01mshap\u001b[39;00m\n\u001b[32m      3\u001b[39m \u001b[38;5;66;03m# Initialize TreeExplainer for RandomForest\u001b[39;00m\n\u001b[32m----> \u001b[39m\u001b[32m4\u001b[39m explainer = shap.TreeExplainer(\u001b[43mmodel\u001b[49m)\n\u001b[32m      5\u001b[39m shap_values = explainer.shap_values(X_test)\n\u001b[32m      7\u001b[39m \u001b[38;5;66;03m# Summary Plot (Global Feature Importance)\u001b[39;00m\n\u001b[32m      8\u001b[39m \u001b[38;5;66;03m# Access the SHAP values for the positive class (index 1) across all samples and features\u001b[39;00m\n",
      "\u001b[31mNameError\u001b[39m: name 'model' is not defined"
     ]
    }
   ],
   "source": [
    "# Import necessary libraries\n",
    "import pandas as pd\n",
    "import numpy as np\n",
    "import seaborn as sns\n",
    "import matplotlib.pyplot as plt\n",
    "import joblib\n",
    "from sklearn.model_selection import train_test_split\n",
    "from sklearn.preprocessing import StandardScaler\n",
    "from sklearn.ensemble import RandomForestClassifier\n",
    "from sklearn.metrics import accuracy_score, classification_report, confusion_matrix, roc_auc_score, roc_curve\n",
    "import os # Import the os module\n",
    "\n",
    "# Load dataset\n",
    "data = pd.read_csv('/content/dataset-uci.csv')\n",
    "\n",
    "# Show basic info\n",
    "print(\"Dataset Shape:\", data.shape)\n",
    "print(\"Columns:\", data.columns)\n",
    "print(\"Missing Values:\\n\", data.isnull().sum())\n",
    "print(\"First 5 Rows:\\n\", data.head())\n",
    "\n",
    "# ====== STEP 1: Data Preprocessing ======\n",
    "\n",
    "# Fill missing values if any (here using median)\n",
    "data = data.fillna(data.median(numeric_only=True))\n",
    "\n",
    "# Define Features and Target\n",
    "X = data.drop(['Gallstone Status'], axis=1)   # Assuming 'Outcome' is the target column\n",
    "y = data['Gallstone Status']\n",
    "\n",
    "# Scale features\n",
    "scaler = StandardScaler()\n",
    "X_scaled = scaler.fit_transform(X)\n",
    "\n",
    "# Split dataset\n",
    "X_train, X_test, y_train, y_test = train_test_split(\n",
    "    X_scaled, y, test_size=0.2, random_state=42, stratify=y\n",
    ")\n",
    "\n",
    "# ====== STEP 2: Model Building ======\n",
    "\n",
    "# Random Forest Classifier\n",
    "model = RandomForestClassifier(random_state=42)\n",
    "model.fit(X_train, y_train)\n",
    "\n",
    "# Predictions\n",
    "y_pred = model.predict(X_test)\n",
    "y_proba = model.predict_proba(X_test)[:, 1]\n",
    "\n",
    "# ====== STEP 3: Model Evaluation ======\n",
    "\n",
    "# Accuracy, Precision, Recall, F1 Score\n",
    "print(\"\\nClassification Report:\\n\", classification_report(y_test, y_pred))\n",
    "\n",
    "# Confusion Matrix\n",
    "cm = confusion_matrix(y_test, y_pred)\n",
    "sns.heatmap(cm, annot=True, fmt='d', cmap='Blues')\n",
    "plt.title('Confusion Matrix')\n",
    "plt.xlabel('Predicted')\n",
    "plt.ylabel('Actual')\n",
    "plt.show()\n",
    "\n",
    "# ROC-AUC Score\n",
    "roc_auc = roc_auc_score(y_test, y_proba)\n",
    "print(\"ROC AUC Score:\", roc_auc)\n",
    "\n",
    "# ROC Curve\n",
    "fpr, tpr, thresholds = roc_curve(y_test, y_proba)\n",
    "plt.plot(fpr, tpr, label=f'ROC Curve (AUC = {roc_auc:.2f})')\n",
    "plt.plot([0, 1], [0, 1], 'k--')  # Random model line\n",
    "plt.xlabel('False Positive Rate')\n",
    "plt.ylabel('True Positive Rate')\n",
    "plt.title('Receiver Operating Characteristic (ROC)')\n",
    "plt.legend()\n",
    "plt.show()\n",
    "\n",
    "# Create the 'models' directory if it doesn't exist\n",
    "if not os.path.exists('models'):\n",
    "    os.makedirs('models')\n",
    "\n",
    "# Save model and scaler\n",
    "joblib.dump(model, 'models/random_forest_model.pkl')\n",
    "joblib.dump(scaler, 'models/scaler.pkl')"
   ]
  },
  {
   "cell_type": "code",
   "execution_count": null,
   "id": "e6a6ff90-7c49-4cf5-a731-290d37de8ae1",
   "metadata": {},
   "outputs": [],
   "source": [
    "import shap\n",
    "\n",
    "# Initialize TreeExplainer for RandomForest\n",
    "explainer = shap.TreeExplainer(model)\n",
    "shap_values = explainer.shap_values(X_test)\n",
    "\n",
    "# Summary Plot (Global Feature Importance)\n",
    "# Access the SHAP values for the positive class (index 1) across all samples and features\n",
    "shap.summary_plot(shap_values[:, :, 1], X_test, feature_names=X.columns)\n",
    "\n",
    "# Force Plot (For one individual prediction)\n",
    "shap.initjs()\n",
    "# Access the expected value and SHAP values for the positive class for the first sample\n",
    "shap.force_plot(explainer.expected_value[1], shap_values[0, :, 1], X_test[0], feature_names=X.columns)"
   ]
  }
 ],
 "metadata": {
  "kernelspec": {
   "display_name": "Python 3 (ipykernel)",
   "language": "python",
   "name": "python3"
  },
  "language_info": {
   "codemirror_mode": {
    "name": "ipython",
    "version": 3
   },
   "file_extension": ".py",
   "mimetype": "text/x-python",
   "name": "python",
   "nbconvert_exporter": "python",
   "pygments_lexer": "ipython3",
   "version": "3.13.1"
  }
 },
 "nbformat": 4,
 "nbformat_minor": 5
}

{
 "cells": [
  {
   "cell_type": "code",
   "execution_count": null,
   "id": "c37c46b1-1f6e-49d6-87b0-74a1f02b2444",
   "metadata": {},
   "outputs": [],
   "source": [
    "import sys\n",
    "!{sys.executable} -m pip install matplotlib"
   ]
  },
  {
   "cell_type": "code",
   "execution_count": null,
   "id": "0485cc68-5f57-4d77-8d3a-5c2379309a56",
   "metadata": {},
   "outputs": [],
   "source": [
    "import pandas as pd\n",
    "import numpy as np\n",
    "import matplotlib.pyplot as plt\n",
    "\n",
    "import joblib\n",
    "from sklearn.model_selection import train_test_split\n",
    "from sklearn.preprocessing import StandardScaler\n",
    "from sklearn.ensemble import RandomForestClassifier\n",
    "from sklearn.metrics import accuracy_score, classification_report, confusion_matrix, roc_auc_score, roc_curve\n",
    "\n",
    "# Load dataset\n",
    "data = pd.read_csv(\"C:/Users/Kavya/OneDrive/Desktop/Contributions/Data_Scientist/DataSentience-AIML/Health AI/DiseasePrediction_XAI/dataset-uci.csv\")\n",
    "\n",
    "# Show basic info\n",
    "print(\"Dataset Shape:\", data.shape)\n",
    "print(\"Columns:\", data.columns)\n",
    "print(\"Missing Values:\\n\", data.isnull().sum())\n",
    "print(\"First 5 Rows:\\n\", data.head())\n",
    "\n",
    "# ====== STEP 1: Data Preprocessing ======\n",
    "\n",
    "# Fill missing values if any (here using median)\n",
    "data = data.fillna(data.median(numeric_only=True))\n",
    "\n",
    "# Define Features and Target\n",
    "X = data.drop(['Gallstone Status'], axis=1)   # Assuming 'Outcome' is the target column\n",
    "y = data['Gallstone Status']\n",
    "# Scale features\n",
    "scaler = StandardScaler()\n",
    "X_scaled = scaler.fit_transform(X)\n",
    "\n",
    "# Split dataset\n",
    "X_train, X_test, y_train, y_test = train_test_split(\n",
    "    X_scaled, y, test_size=0.2, random_state=42, stratify=y\n",
    ")"
   ]
  }
 ],
 "metadata": {
  "kernelspec": {
   "display_name": "Python 3 (ipykernel)",
   "language": "python",
   "name": "python3"
  },
  "language_info": {
   "codemirror_mode": {
    "name": "ipython",
    "version": 3
   },
   "file_extension": ".py",
   "mimetype": "text/x-python",
   "name": "python",
   "nbconvert_exporter": "python",
   "pygments_lexer": "ipython3",
   "version": "3.13.1"
  }
 },
 "nbformat": 4,
 "nbformat_minor": 5
}

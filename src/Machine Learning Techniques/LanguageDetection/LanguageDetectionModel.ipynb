{
  "cells": [
    {
      "cell_type": "markdown",
      "metadata": {},
      "source": [
        "# Language Detection Model\n"
      ]
    },
    {
      "cell_type": "code",
      "execution_count": 1,
      "metadata": {
        "colab": {
          "base_uri": "https://localhost:8080/"
        },
        "id": "6-8sVbqQ6RUv",
        "outputId": "70758816-49bf-44e5-a8cc-86f0919ef002"
      },
      "outputs": [
        {
          "name": "stdout",
          "output_type": "stream",
          "text": [
            "Drive already mounted at /content/gdrive/; to attempt to forcibly remount, call drive.mount(\"/content/gdrive/\", force_remount=True).\n"
          ]
        }
      ],
      "source": [
        "from google.colab import drive\n",
        "drive.mount(\"/content/gdrive/\")"
      ]
    },
    {
      "cell_type": "code",
      "execution_count": 2,
      "metadata": {
        "id": "hzKqHNOTM_W2"
      },
      "outputs": [],
      "source": [
        "import numpy as np\n",
        "import glob\n",
        "import pandas as pd"
      ]
    },
    {
      "cell_type": "code",
      "execution_count": 3,
      "metadata": {
        "colab": {
          "base_uri": "https://localhost:8080/",
          "height": 112
        },
        "id": "u0JoxA3D6bat",
        "outputId": "12cc3389-b6eb-4b74-ff10-b5a6b39afbc5"
      },
      "outputs": [
        {
          "data": {
            "text/html": [
              "\n",
              "  <div id=\"df-c3bd824c-9cf0-4d21-bd1d-bf81349efa75\">\n",
              "    <div class=\"colab-df-container\">\n",
              "      <div>\n",
              "<style scoped>\n",
              "    .dataframe tbody tr th:only-of-type {\n",
              "        vertical-align: middle;\n",
              "    }\n",
              "\n",
              "    .dataframe tbody tr th {\n",
              "        vertical-align: top;\n",
              "    }\n",
              "\n",
              "    .dataframe thead th {\n",
              "        text-align: right;\n",
              "    }\n",
              "</style>\n",
              "<table border=\"1\" class=\"dataframe\">\n",
              "  <thead>\n",
              "    <tr style=\"text-align: right;\">\n",
              "      <th></th>\n",
              "      <th>Text</th>\n",
              "      <th>Language</th>\n",
              "    </tr>\n",
              "  </thead>\n",
              "  <tbody>\n",
              "    <tr>\n",
              "      <th>0</th>\n",
              "      <td>Nature, in the broadest sense, is the natural...</td>\n",
              "      <td>English</td>\n",
              "    </tr>\n",
              "    <tr>\n",
              "      <th>1</th>\n",
              "      <td>\"Nature\" can refer to the phenomena of the phy...</td>\n",
              "      <td>English</td>\n",
              "    </tr>\n",
              "  </tbody>\n",
              "</table>\n",
              "</div>\n",
              "      <button class=\"colab-df-convert\" onclick=\"convertToInteractive('df-c3bd824c-9cf0-4d21-bd1d-bf81349efa75')\"\n",
              "              title=\"Convert this dataframe to an interactive table.\"\n",
              "              style=\"display:none;\">\n",
              "        \n",
              "  <svg xmlns=\"http://www.w3.org/2000/svg\" height=\"24px\"viewBox=\"0 0 24 24\"\n",
              "       width=\"24px\">\n",
              "    <path d=\"M0 0h24v24H0V0z\" fill=\"none\"/>\n",
              "    <path d=\"M18.56 5.44l.94 2.06.94-2.06 2.06-.94-2.06-.94-.94-2.06-.94 2.06-2.06.94zm-11 1L8.5 8.5l.94-2.06 2.06-.94-2.06-.94L8.5 2.5l-.94 2.06-2.06.94zm10 10l.94 2.06.94-2.06 2.06-.94-2.06-.94-.94-2.06-.94 2.06-2.06.94z\"/><path d=\"M17.41 7.96l-1.37-1.37c-.4-.4-.92-.59-1.43-.59-.52 0-1.04.2-1.43.59L10.3 9.45l-7.72 7.72c-.78.78-.78 2.05 0 2.83L4 21.41c.39.39.9.59 1.41.59.51 0 1.02-.2 1.41-.59l7.78-7.78 2.81-2.81c.8-.78.8-2.07 0-2.86zM5.41 20L4 18.59l7.72-7.72 1.47 1.35L5.41 20z\"/>\n",
              "  </svg>\n",
              "      </button>\n",
              "      \n",
              "  <style>\n",
              "    .colab-df-container {\n",
              "      display:flex;\n",
              "      flex-wrap:wrap;\n",
              "      gap: 12px;\n",
              "    }\n",
              "\n",
              "    .colab-df-convert {\n",
              "      background-color: #E8F0FE;\n",
              "      border: none;\n",
              "      border-radius: 50%;\n",
              "      cursor: pointer;\n",
              "      display: none;\n",
              "      fill: #1967D2;\n",
              "      height: 32px;\n",
              "      padding: 0 0 0 0;\n",
              "      width: 32px;\n",
              "    }\n",
              "\n",
              "    .colab-df-convert:hover {\n",
              "      background-color: #E2EBFA;\n",
              "      box-shadow: 0px 1px 2px rgba(60, 64, 67, 0.3), 0px 1px 3px 1px rgba(60, 64, 67, 0.15);\n",
              "      fill: #174EA6;\n",
              "    }\n",
              "\n",
              "    [theme=dark] .colab-df-convert {\n",
              "      background-color: #3B4455;\n",
              "      fill: #D2E3FC;\n",
              "    }\n",
              "\n",
              "    [theme=dark] .colab-df-convert:hover {\n",
              "      background-color: #434B5C;\n",
              "      box-shadow: 0px 1px 3px 1px rgba(0, 0, 0, 0.15);\n",
              "      filter: drop-shadow(0px 1px 2px rgba(0, 0, 0, 0.3));\n",
              "      fill: #FFFFFF;\n",
              "    }\n",
              "  </style>\n",
              "\n",
              "      <script>\n",
              "        const buttonEl =\n",
              "          document.querySelector('#df-c3bd824c-9cf0-4d21-bd1d-bf81349efa75 button.colab-df-convert');\n",
              "        buttonEl.style.display =\n",
              "          google.colab.kernel.accessAllowed ? 'block' : 'none';\n",
              "\n",
              "        async function convertToInteractive(key) {\n",
              "          const element = document.querySelector('#df-c3bd824c-9cf0-4d21-bd1d-bf81349efa75');\n",
              "          const dataTable =\n",
              "            await google.colab.kernel.invokeFunction('convertToInteractive',\n",
              "                                                     [key], {});\n",
              "          if (!dataTable) return;\n",
              "\n",
              "          const docLinkHtml = 'Like what you see? Visit the ' +\n",
              "            '<a target=\"_blank\" href=https://colab.research.google.com/notebooks/data_table.ipynb>data table notebook</a>'\n",
              "            + ' to learn more about interactive tables.';\n",
              "          element.innerHTML = '';\n",
              "          dataTable['output_type'] = 'display_data';\n",
              "          await google.colab.output.renderOutput(dataTable, element);\n",
              "          const docLink = document.createElement('div');\n",
              "          docLink.innerHTML = docLinkHtml;\n",
              "          element.appendChild(docLink);\n",
              "        }\n",
              "      </script>\n",
              "    </div>\n",
              "  </div>\n",
              "  "
            ],
            "text/plain": [
              "                                                Text Language\n",
              "0   Nature, in the broadest sense, is the natural...  English\n",
              "1  \"Nature\" can refer to the phenomena of the phy...  English"
            ]
          },
          "execution_count": 3,
          "metadata": {},
          "output_type": "execute_result"
        }
      ],
      "source": [
        "# Load the dataset\n",
        "df=pd.read_csv(\"/content/gdrive/MyDrive/GSSOC-ML-CaPsule/Language Detection.csv\")\n",
        "df.head(2)"
      ]
    },
    {
      "cell_type": "code",
      "execution_count": 4,
      "metadata": {
        "id": "IssdgelyJITu"
      },
      "outputs": [],
      "source": [
        "X=df['Text']\n",
        "y=df['Language']"
      ]
    },
    {
      "cell_type": "code",
      "execution_count": 5,
      "metadata": {
        "colab": {
          "base_uri": "https://localhost:8080/"
        },
        "id": "qpee7fED749v",
        "outputId": "77d1b332-e703-47d1-fd0c-d15cc147bf7c"
      },
      "outputs": [
        {
          "data": {
            "text/plain": [
              "array(['Arabic', 'Danish', 'Dutch', 'English', 'French', 'German',\n",
              "       'Greek', 'Hindi', 'Italian', 'Kannada', 'Malayalam', 'Portugeese',\n",
              "       'Russian', 'Spanish', 'Sweedish', 'Tamil', 'Turkish'], dtype=object)"
            ]
          },
          "execution_count": 5,
          "metadata": {},
          "output_type": "execute_result"
        }
      ],
      "source": [
        "#encode nominal labels into categorical labels\n",
        "from sklearn.preprocessing import LabelEncoder\n",
        "le = LabelEncoder()\n",
        "y = le.fit_transform(y)\n",
        "le.classes_"
      ]
    },
    {
      "cell_type": "code",
      "execution_count": 6,
      "metadata": {
        "colab": {
          "base_uri": "https://localhost:8080/"
        },
        "id": "lAFNV5wWKqpd",
        "outputId": "343774c6-190d-47c0-f336-1b805608f559"
      },
      "outputs": [
        {
          "data": {
            "text/plain": [
              "['nature  in the broadest sense  is the natural  physical  material world or universe',\n",
              " 'nature  can refer to the phenomena of the physical world  and also to life in general']"
            ]
          },
          "execution_count": 6,
          "metadata": {},
          "output_type": "execute_result"
        }
      ],
      "source": [
        "import re\n",
        "processed_list = []\n",
        "for content in X:\n",
        "       # removing the symbols and numbers using regex\n",
        "        content = re.sub(r'[!@#$().,\"%^*?:;~`0-9]', ' ', content)\n",
        "        content = re.sub(r'\\[', ' ', content)\n",
        "        content = re.sub(r'\\]', ' ', content)\n",
        "        content=content.strip()\n",
        "\n",
        "        # Normalize by converting the content to lower case\n",
        "        content = content.lower()\n",
        "        # appending to the processed list\n",
        "        processed_list.append(content)\n",
        "\n",
        "processed_list[0:2]"
      ]
    },
    {
      "cell_type": "code",
      "execution_count": 7,
      "metadata": {
        "id": "bcmWUqMpR0Zc"
      },
      "outputs": [],
      "source": [
        "from sklearn.feature_extraction.text import TfidfVectorizer\n",
        "\n",
        "def word_tokenizer(phrase):\n",
        "  words=phrase.split(\" \")\n",
        "  wordlist=[]\n",
        "  i=0\n",
        "  for w in words:\n",
        "    res=w.strip()\n",
        "    if(res!=''):\n",
        "      wordlist.append(res)\n",
        "      i+=1\n",
        "  return wordlist\n"
      ]
    },
    {
      "cell_type": "code",
      "execution_count": 8,
      "metadata": {
        "colab": {
          "base_uri": "https://localhost:8080/"
        },
        "id": "aTovuX1RUQW9",
        "outputId": "97fc0c17-1dd6-4750-a18b-e0f5566928ba"
      },
      "outputs": [
        {
          "name": "stdout",
          "output_type": "stream",
          "text": [
            "10337\n"
          ]
        }
      ],
      "source": [
        "phrase_count=len(processed_list)\n",
        "tokenized_docset=[]\n",
        "i=0\n",
        "while(i<phrase_count):\n",
        "  wset=word_tokenizer(processed_list[i])\n",
        "  tokenized_docset.append(wset)\n",
        "  #print(wset)\n",
        "  i+=1\n",
        "print(len(tokenized_docset))"
      ]
    },
    {
      "cell_type": "code",
      "execution_count": 9,
      "metadata": {
        "colab": {
          "base_uri": "https://localhost:8080/"
        },
        "id": "FzpFirEHzB-9",
        "outputId": "aa7d1f2f-6004-4c9d-b5af-12657b8d2386"
      },
      "outputs": [
        {
          "data": {
            "text/plain": [
              "48270"
            ]
          },
          "execution_count": 9,
          "metadata": {},
          "output_type": "execute_result"
        }
      ],
      "source": [
        "#create vocabulary\n",
        "vocabulary=[]\n",
        "for arr in tokenized_docset:\n",
        "  for w in arr:\n",
        "    if(w not in vocabulary):\n",
        "      vocabulary.append(w)\n",
        "\n",
        "len(vocabulary)"
      ]
    },
    {
      "cell_type": "code",
      "execution_count": 10,
      "metadata": {
        "id": "4iEde2tS3sKx"
      },
      "outputs": [],
      "source": [
        "#create a dictionary of vocabulary \n",
        "vocab_size=len(vocabulary)\n",
        "val=np.arange(0,vocab_size,1)\n",
        "word_dic= dict(zip(vocabulary, val))\n",
        "#word_dic['टारण्टीनो']"
      ]
    },
    {
      "cell_type": "code",
      "execution_count": 11,
      "metadata": {
        "id": "lPnMwcZpzmoW"
      },
      "outputs": [],
      "source": [
        "#count vector creation (Unigrams)\n",
        "count_vec=[]\n",
        "i=0\n",
        "while(i<phrase_count):\n",
        "  count_arr=np.zeros(vocab_size)\n",
        "  for w in tokenized_docset[i]:\n",
        "    position=word_dic[w]\n",
        "    count_arr[position]+=1\n",
        "  i+=1\n",
        "  #print(\"Count Array \",i,\" : \",count_arr)\n",
        "  count_vec.append(count_arr)"
      ]
    },
    {
      "cell_type": "code",
      "execution_count": 12,
      "metadata": {
        "colab": {
          "base_uri": "https://localhost:8080/"
        },
        "id": "X1W6mwO-XXcg",
        "outputId": "c71d4661-3444-4437-d7af-a8691a64141d"
      },
      "outputs": [
        {
          "data": {
            "text/plain": [
              "(10337, 48270)"
            ]
          },
          "execution_count": 12,
          "metadata": {},
          "output_type": "execute_result"
        }
      ],
      "source": [
        "X=np.array(count_vec)\n",
        "X.shape"
      ]
    },
    {
      "cell_type": "code",
      "execution_count": 13,
      "metadata": {
        "id": "isY8KOy3CkRr"
      },
      "outputs": [],
      "source": [
        "from sklearn.model_selection import train_test_split\n",
        "x_train, x_test, y_train, y_test = train_test_split(X, y, test_size = 0.30)"
      ]
    },
    {
      "cell_type": "code",
      "execution_count": 14,
      "metadata": {
        "colab": {
          "base_uri": "https://localhost:8080/"
        },
        "id": "SW446JXOCv58",
        "outputId": "3c498fe3-5231-438b-9e8f-870a91260ae8"
      },
      "outputs": [
        {
          "data": {
            "text/plain": [
              "MultinomialNB()"
            ]
          },
          "execution_count": 14,
          "metadata": {},
          "output_type": "execute_result"
        }
      ],
      "source": [
        "#using Multinomial Naive Bayes for classification\n",
        "from sklearn.naive_bayes import MultinomialNB\n",
        "model = MultinomialNB()\n",
        "model.fit(x_train, y_train)"
      ]
    },
    {
      "cell_type": "code",
      "execution_count": 15,
      "metadata": {
        "colab": {
          "base_uri": "https://localhost:8080/"
        },
        "id": "WIo3gurUC2hj",
        "outputId": "c1510772-1f80-40ef-bd03-f3f9a6e4a4fe"
      },
      "outputs": [
        {
          "name": "stdout",
          "output_type": "stream",
          "text": [
            "Accuracy of Model : 97.16312056737588 %\n"
          ]
        }
      ],
      "source": [
        "y_pred = model.predict(x_test)\n",
        "\n",
        "from sklearn.metrics import accuracy_score, confusion_matrix, classification_report\n",
        "accuracy = accuracy_score(y_test, y_pred)\n",
        "cm = confusion_matrix(y_test, y_pred)\n",
        "\n",
        "print(\"Accuracy of Model :\",accuracy*100,\"%\")"
      ]
    },
    {
      "cell_type": "code",
      "execution_count": 20,
      "metadata": {
        "colab": {
          "base_uri": "https://localhost:8080/"
        },
        "id": "8X0Dteg2Wi-z",
        "outputId": "1c8fd4d6-c495-4f4e-8aaa-fef39e737438"
      },
      "outputs": [
        {
          "name": "stdout",
          "output_type": "stream",
          "text": [
            "Test Content (Count Vector of the content) :  [0. 2. 2. ... 0. 0. 0.]\n",
            "Predicted label(Encoded) :  3\n",
            "Actual Label (Encoded) :  3\n"
          ]
        }
      ],
      "source": [
        "#test data output\n",
        "print(\"Test Content (Count Vector of the content) : \",x_test[0])\n",
        "print(\"Predicted label(Encoded) : \",y_pred[0])\n",
        "print(\"Actual Label (Encoded) : \",y_test[0])"
      ]
    }
  ],
  "metadata": {
    "colab": {
      "name": "LanguageDetectionModel.ipynb",
      "provenance": []
    },
    "kernelspec": {
      "display_name": "Python 3",
      "name": "python3"
    },
    "language_info": {
      "name": "python"
    }
  },
  "nbformat": 4,
  "nbformat_minor": 0
}
